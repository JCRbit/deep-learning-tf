{
  "cells": [
    {
      "cell_type": "code",
      "execution_count": 1,
      "metadata": {
        "colab": {
          "base_uri": "https://localhost:8080/"
        },
        "id": "CZd7F5iFhAct",
        "outputId": "dd40a7a4-564f-4591-bbf2-45622828d344"
      },
      "outputs": [
        {
          "output_type": "execute_result",
          "data": {
            "text/plain": [
              "(14780, 89)"
            ]
          },
          "metadata": {},
          "execution_count": 1
        }
      ],
      "source": [
        "import pandas as pd\n",
        "\n",
        "airbnb_url = \"https://public.opendatasoft.com/api/explore/v2.1/catalog/datasets/airbnb-listings/exports/csv?lang=en&facet=facet(name%3D%22host_verifications%22%2C%20disjunctive%3Dtrue)&facet=facet(name%3D%22amenities%22%2C%20disjunctive%3Dtrue)&facet=facet(name%3D%22features%22%2C%20disjunctive%3Dtrue)&qv1=(Madrid)&timezone=Europe%2FBerlin&use_labels=true&delimiter=%3B\"\n",
        "airbnb = pd.read_csv(airbnb_url, sep=\";\")\n",
        "airbnb.shape"
      ]
    },
    {
      "cell_type": "markdown",
      "source": [
        "# **1. Data cleaning and preprocessing**"
      ],
      "metadata": {
        "id": "sx0Mbkb7rY3y"
      }
    },
    {
      "cell_type": "code",
      "execution_count": 2,
      "metadata": {
        "colab": {
          "base_uri": "https://localhost:8080/"
        },
        "id": "gcSrKQbzi76g",
        "outputId": "7e5e7790-4e22-46aa-bc26-5418df657e77"
      },
      "outputs": [
        {
          "output_type": "execute_result",
          "data": {
            "text/plain": [
              "(13268, 89)"
            ]
          },
          "metadata": {},
          "execution_count": 2
        }
      ],
      "source": [
        "# Filter Madrid samples\n",
        "madrid_mask = [True if \"madrid\" in street.lower() and country == \"Spain\" else False\n",
        "     for street, country in zip(airbnb[\"Street\"], airbnb[\"Country\"])]\n",
        "madrid = airbnb[madrid_mask]\n",
        "madrid.shape"
      ]
    },
    {
      "cell_type": "markdown",
      "source": [
        "### 1.1. Train-Validation-Test split"
      ],
      "metadata": {
        "id": "lZ433GmUsJoI"
      }
    },
    {
      "cell_type": "code",
      "execution_count": 3,
      "metadata": {
        "colab": {
          "base_uri": "https://localhost:8080/"
        },
        "id": "PfbMmbR2d8Zl",
        "outputId": "b3672883-9c2d-4403-8c45-2b052d9ff9a9"
      },
      "outputs": [
        {
          "output_type": "stream",
          "name": "stdout",
          "text": [
            "Train shape: (9021, 89)\n",
            "Validation shape: (1593, 89)\n",
            "Test shape: (2654, 89)\n"
          ]
        }
      ],
      "source": [
        "from sklearn.model_selection import train_test_split\n",
        "\n",
        "# Split data into training, validation and testing sets\n",
        "mad_train, mad_test = train_test_split(madrid, test_size=0.2, random_state=0, shuffle=True)\n",
        "mad_train, mad_val = train_test_split(mad_train, test_size=0.15, random_state=0, shuffle=True)\n",
        "\n",
        "print(f\"Train shape: {mad_train.shape}\")\n",
        "print(f\"Validation shape: {mad_val.shape}\")\n",
        "print(f\"Test shape: {mad_test.shape}\")"
      ]
    },
    {
      "cell_type": "markdown",
      "source": [
        "### 1.2. Feature selection"
      ],
      "metadata": {
        "id": "du1R9KCrrxUI"
      }
    },
    {
      "cell_type": "code",
      "execution_count": 4,
      "metadata": {
        "id": "PkYw5_EAZuhH"
      },
      "outputs": [],
      "source": [
        "# Keep columns\n",
        "columns = ['Price', 'Picture Url', 'Host Response Time', 'Host Response Rate',\n",
        "           'Host Acceptance Rate', 'Latitude', 'Longitude', 'Property Type',\n",
        "           'Room Type', 'Accommodates', 'Bathrooms', 'Bedrooms', 'Beds', 'Bed Type',\n",
        "           'Amenities', 'Square Feet', 'Security Deposit', 'Cleaning Fee',\n",
        "           'Guests Included', 'Extra People', 'Minimum Nights',\n",
        "           'Review Scores Rating', 'License', 'Cancellation Policy']\n",
        "\n",
        "mad_train = mad_train[columns]\n",
        "mad_val = mad_val[columns]\n",
        "mad_test = mad_test[columns]"
      ]
    },
    {
      "cell_type": "markdown",
      "source": [
        "### 1.3. Outliers and missing values"
      ],
      "metadata": {
        "id": "7V8NGxiir00Q"
      }
    },
    {
      "cell_type": "code",
      "execution_count": 5,
      "metadata": {
        "colab": {
          "base_uri": "https://localhost:8080/"
        },
        "id": "q2lIFl_RaCR0",
        "outputId": "3ff01007-396e-4044-dbbf-e2f8b4eb5ee3"
      },
      "outputs": [
        {
          "output_type": "stream",
          "name": "stdout",
          "text": [
            "Train shape: (6503, 21)\n",
            "Validation shape: (1135, 21)\n",
            "Test shape: (1962, 21)\n"
          ]
        }
      ],
      "source": [
        "# Remove outliers\n",
        "mad_train = mad_train[mad_train[\"Bathrooms\"] >= 1].copy()\n",
        "mad_val = mad_val[mad_val[\"Bathrooms\"] >= 1].copy()\n",
        "mad_test = mad_test[mad_test[\"Bathrooms\"] >= 1].copy()\n",
        "\n",
        "# Replace missing values in Security Deposit and Cleaning Fee\n",
        "mad_train[\"Security Deposit\"].fillna(0, inplace=True)\n",
        "mad_train[\"Cleaning Fee\"].fillna(0, inplace=True)\n",
        "\n",
        "mad_val[\"Security Deposit\"].fillna(0, inplace=True)\n",
        "mad_val[\"Cleaning Fee\"].fillna(0, inplace=True)\n",
        "\n",
        "mad_test[\"Security Deposit\"].fillna(0, inplace=True)\n",
        "mad_test[\"Cleaning Fee\"].fillna(0, inplace=True)\n",
        "\n",
        "# Remove missing values\n",
        "na_mask = mad_train.isna().sum() / mad_train.shape[0] > 0.9\n",
        "mad_train.drop(mad_train.columns[na_mask], axis=1, inplace=True)\n",
        "mad_val.drop(mad_val.columns[na_mask], axis=1, inplace=True)\n",
        "mad_test.drop(mad_test.columns[na_mask], axis=1, inplace=True)\n",
        "\n",
        "mad_train.dropna(inplace=True)\n",
        "mad_val.dropna(inplace=True)\n",
        "mad_test.dropna(inplace=True)\n",
        "\n",
        "print(f\"Train shape: {mad_train.shape}\")\n",
        "print(f\"Validation shape: {mad_val.shape}\")\n",
        "print(f\"Test shape: {mad_test.shape}\")"
      ]
    },
    {
      "cell_type": "markdown",
      "metadata": {
        "id": "CP2SnsQ2VloG"
      },
      "source": [
        "### 1.4. Encoding"
      ]
    },
    {
      "cell_type": "code",
      "source": [
        "import numpy as np\n",
        "\n",
        "dataframes = [mad_train, mad_val, mad_test]\n",
        "for df in dataframes:\n",
        "  # Property-type dummy encoding\n",
        "  df[\"proptype_apartment\"] = np.where(df[\"Property Type\"] == \"Apartment\", 1, 0)\n",
        "\n",
        "  # Bed-type dummy encoding\n",
        "  df[\"bedtype_realbed\"] = np.where(df[\"Bed Type\"] == \"Real Bed\", 1, 0)\n",
        "\n",
        "  # Drop Property-Type and Bed-Type columns\n",
        "  df.drop([\"Property Type\", \"Bed Type\"], axis=1, inplace=True)"
      ],
      "metadata": {
        "id": "D7eOGCAMcK_4"
      },
      "execution_count": 6,
      "outputs": []
    },
    {
      "cell_type": "code",
      "source": [
        "from sklearn.preprocessing import LabelEncoder\n",
        "\n",
        "# Host-Response-Time label encoding:\n",
        "# \"a few days or more\", \"within a day\", \"within a few hours\", \"within an hour\"\n",
        "le_responsetime = LabelEncoder().fit(mad_train[\"Host Response Time\"])\n",
        "\n",
        "# Cancellation-Policy label encoding:\n",
        "# \"flexible\", \"moderate\", \"strict\", \"super_strict\"\n",
        "superstrict = [\"super_strict_30\", \"super_strict_60\"]\n",
        "for df in dataframes:\n",
        "  superstrict_mask = df[\"Cancellation Policy\"].isin(superstrict)\n",
        "  df.loc[superstrict_mask, \"Cancellation Policy\"] = \"super_strict\"\n",
        "le_cancelpolicy = LabelEncoder().fit(mad_train[\"Cancellation Policy\"])\n",
        "\n",
        "# Room-Type label encoding:\n",
        "# \"Entire home/apt\", \"Private room\", \"Shared Room\"\n",
        "le_roomtype = LabelEncoder().fit(mad_train[\"Room Type\"])\n",
        "\n",
        "for df in dataframes:\n",
        "  df[\"Host Response Time\"] = le_responsetime.transform(df[\"Host Response Time\"])\n",
        "  df[\"Cancellation Policy\"] = le_cancelpolicy.transform(df[\"Cancellation Policy\"])\n",
        "  df[\"Room Type\"] = le_roomtype.transform(df[\"Room Type\"])"
      ],
      "metadata": {
        "id": "gLak4g0_Zg7R"
      },
      "execution_count": 7,
      "outputs": []
    },
    {
      "cell_type": "code",
      "source": [
        "# Amenities\n",
        "amenities = {\"heating\": \"Heating\",\n",
        "             \"tv\": \"TV\",\n",
        "             \"elevator\": \"Elevator in building\",\n",
        "             \"aircon\": \"Air conditioning\"\n",
        "             }\n",
        "\n",
        "for df in dataframes:\n",
        "  # Number of amenities\n",
        "  df[\"n_amenities\"] = df[\"Amenities\"].map(lambda s: len(s.split(\",\")))\n",
        "\n",
        "  # Main-amenities dummy encoding\n",
        "  for k, v in amenities.items():\n",
        "    df[k] = df[\"Amenities\"].map(lambda s: 1 if(v in s.split(\",\")) else 0)\n",
        "\n",
        "  # Drop Amenities column\n",
        "  df.drop([\"Amenities\"], axis=1, inplace=True)"
      ],
      "metadata": {
        "id": "PtdivA-ObUKs"
      },
      "execution_count": 8,
      "outputs": []
    },
    {
      "cell_type": "code",
      "execution_count": 9,
      "metadata": {
        "colab": {
          "base_uri": "https://localhost:8080/"
        },
        "id": "zz-s4yTR_EBN",
        "outputId": "807ca2f0-f97f-43c4-c578-b6bc54a702a4"
      },
      "outputs": [
        {
          "output_type": "stream",
          "name": "stdout",
          "text": [
            "Requirement already satisfied: utm in /usr/local/lib/python3.10/dist-packages (0.7.0)\n"
          ]
        }
      ],
      "source": [
        "!pip install utm"
      ]
    },
    {
      "cell_type": "code",
      "source": [
        "import utm\n",
        "\n",
        "# Plaza Puerta del Sol, Madrid coordinates\n",
        "longitude0 = -3.7034\n",
        "latitude0 = 40.4167\n",
        "\n",
        "# Project latitutude, logitude coordinates into x-y plane\n",
        "x0, y0, _, _ = utm.from_latlon(latitude0, longitude0)\n",
        "for df in dataframes:\n",
        "  x, y, _, _ = utm.from_latlon(df[\"Latitude\"].values, df[\"Longitude\"].values)\n",
        "\n",
        "  # Distance to Madrid center and cardinal directions\n",
        "  df[\"distance\"] = np.sqrt((x - x0)**2 + (y - y0)**2)\n",
        "  df[\"north\"] = (y >= y0) * 1\n",
        "  df[\"east\"] = (x >= x0) * 1\n",
        "\n",
        "  # Drop Latitude and Longitude columns\n",
        "  df.drop([\"Latitude\", \"Longitude\"], axis=1, inplace=True)"
      ],
      "metadata": {
        "id": "Jo-ItUUljFmr"
      },
      "execution_count": 10,
      "outputs": []
    },
    {
      "cell_type": "code",
      "execution_count": 11,
      "metadata": {
        "colab": {
          "base_uri": "https://localhost:8080/"
        },
        "id": "bVlsBSjYLyMX",
        "outputId": "97fd2c7b-f612-4c92-81a5-e12b3900bc70"
      },
      "outputs": [
        {
          "output_type": "stream",
          "name": "stdout",
          "text": [
            "<class 'pandas.core.frame.DataFrame'>\n",
            "Int64Index: 6503 entries, 10043 to 2105\n",
            "Data columns (total 26 columns):\n",
            " #   Column                Non-Null Count  Dtype  \n",
            "---  ------                --------------  -----  \n",
            " 0   Price                 6503 non-null   float64\n",
            " 1   Picture Url           6503 non-null   object \n",
            " 2   Host Response Time    6503 non-null   int64  \n",
            " 3   Host Response Rate    6503 non-null   float64\n",
            " 4   Room Type             6503 non-null   int64  \n",
            " 5   Accommodates          6503 non-null   int64  \n",
            " 6   Bathrooms             6503 non-null   float64\n",
            " 7   Bedrooms              6503 non-null   float64\n",
            " 8   Beds                  6503 non-null   float64\n",
            " 9   Security Deposit      6503 non-null   float64\n",
            " 10  Cleaning Fee          6503 non-null   float64\n",
            " 11  Guests Included       6503 non-null   int64  \n",
            " 12  Extra People          6503 non-null   int64  \n",
            " 13  Minimum Nights        6503 non-null   int64  \n",
            " 14  Review Scores Rating  6503 non-null   float64\n",
            " 15  Cancellation Policy   6503 non-null   int64  \n",
            " 16  proptype_apartment    6503 non-null   int64  \n",
            " 17  bedtype_realbed       6503 non-null   int64  \n",
            " 18  n_amenities           6503 non-null   int64  \n",
            " 19  heating               6503 non-null   int64  \n",
            " 20  tv                    6503 non-null   int64  \n",
            " 21  elevator              6503 non-null   int64  \n",
            " 22  aircon                6503 non-null   int64  \n",
            " 23  distance              6503 non-null   float64\n",
            " 24  north                 6503 non-null   int64  \n",
            " 25  east                  6503 non-null   int64  \n",
            "dtypes: float64(9), int64(16), object(1)\n",
            "memory usage: 1.3+ MB\n"
          ]
        }
      ],
      "source": [
        "mad_train.info()"
      ]
    },
    {
      "cell_type": "markdown",
      "source": [
        "### 1.5. Download images and data standardisation"
      ],
      "metadata": {
        "id": "O99qSDr3tDLn"
      }
    },
    {
      "cell_type": "code",
      "execution_count": null,
      "metadata": {
        "id": "PYU6JbCqZWJV"
      },
      "outputs": [],
      "source": [
        "import cv2\n",
        "import imageio.v3 as io\n",
        "from tqdm import tqdm\n",
        "from typing import Optional\n",
        "\n",
        "def download_images(paths: list,\n",
        "                    canvas: tuple = (128, 128),\n",
        "                    nb_channels: int = 3,\n",
        "                    max_imgs: Optional[int] = None\n",
        "                    ) -> tuple:\n",
        "  \"\"\" Download a list of images from url adresses, converting them to a specific\n",
        "  canvas size.\n",
        "\n",
        "  Args:\n",
        "    paths: Paths or url adresses from which to load images.\n",
        "    canvas: Desired image width and height.\n",
        "    nb_channels: Channels in images (1 for B/W, 3 for RGB).\n",
        "    max_imgs: Upper threshold in the number of images to download.\n",
        "\n",
        "  Return:\n",
        "    a tuple of:\n",
        "      - image values\n",
        "      - indices within the paths that were successfull.\n",
        "\n",
        "  \"\"\"\n",
        "  n_images = len(paths) if not max_imgs else max_imgs\n",
        "  images = np.zeros((n_images, canvas[0], canvas[1], nb_channels),\n",
        "                       dtype=np.uint8)\n",
        "  downloaded_idxs = []\n",
        "\n",
        "  for i_img, url in enumerate(tqdm(paths, total=n_images)):\n",
        "    if i_img >= n_images:\n",
        "      break\n",
        "    try:\n",
        "        img = io.imread(url)\n",
        "        img = cv2.resize(img, (canvas[0], canvas[1]))\n",
        "        downloaded_idxs.append(i_img)\n",
        "        images[i_img] = img\n",
        "    except (IOError, ValueError) as e:  # Unavailable url / conversion error\n",
        "        pass\n",
        "  return images[downloaded_idxs], downloaded_idxs"
      ]
    },
    {
      "cell_type": "code",
      "execution_count": null,
      "metadata": {
        "id": "RdTh_y_tlUPm"
      },
      "outputs": [],
      "source": [
        "img_shape = (128, 128)\n",
        "X_img_train, idxs_train = download_images(mad_train[\"Picture Url\"], canvas=img_shape)\n",
        "X_img_train = X_img_train.astype(\"float32\") / 255.\n",
        "print(X_img_train.shape)\n",
        "\n",
        "X_img_val, idxs_val = download_images(mad_val[\"Picture Url\"], canvas=img_shape)\n",
        "X_img_val = X_img_val.astype(\"float32\") / 255.\n",
        "print(X_img_val.shape)\n",
        "\n",
        "X_img_test, idxs_test = download_images(mad_test[\"Picture Url\"], canvas=img_shape)\n",
        "X_img_test = X_img_test.astype(\"float32\") / 255.\n",
        "print(X_img_test.shape)"
      ]
    },
    {
      "cell_type": "code",
      "execution_count": null,
      "metadata": {
        "id": "FDVjchKzR0Fq"
      },
      "outputs": [],
      "source": [
        "X_tab_train = mad_train.drop([\"Price\", \"Picture Url\"], axis=1).values[idxs_train, :].astype(\"float32\")\n",
        "y_train = mad_train[\"Price\"].values[idxs_train].astype(\"float32\")\n",
        "\n",
        "X_tab_val = mad_val.drop([\"Price\", \"Picture Url\"], axis=1).values[idxs_val, :].astype(\"float32\")\n",
        "y_val = mad_val[\"Price\"].values[idxs_val].astype(\"float32\")\n",
        "\n",
        "X_tab_test = mad_test.drop([\"Price\", \"Picture Url\"], axis=1).values[idxs_test, :].astype(\"float32\")\n",
        "y_test = mad_test[\"Price\"].values[idxs_test].astype(\"float32\")"
      ]
    },
    {
      "cell_type": "code",
      "execution_count": null,
      "metadata": {
        "id": "wTkcawHcf6eg"
      },
      "outputs": [],
      "source": [
        "from sklearn.preprocessing import StandardScaler\n",
        "\n",
        "xscaler = StandardScaler()\n",
        "X_tab_train = xscaler.fit_transform(X_tab_train)\n",
        "X_tab_val = xscaler.transform(X_tab_val)\n",
        "X_tab_test = xscaler.transform(X_tab_test)"
      ]
    },
    {
      "cell_type": "markdown",
      "source": [
        "### 1.6. Save clean and preprocessed data"
      ],
      "metadata": {
        "id": "gjZKu57vtwZU"
      }
    },
    {
      "cell_type": "code",
      "execution_count": null,
      "metadata": {
        "id": "BmKTxwk3tt5e"
      },
      "outputs": [],
      "source": [
        "from google.colab import drive\n",
        "drive.mount('/content/drive')"
      ]
    },
    {
      "cell_type": "code",
      "execution_count": null,
      "metadata": {
        "id": "mn8WvbpGeeZ-"
      },
      "outputs": [],
      "source": [
        "!mkdir -p /content/drive/MyDrive/airbnb/data"
      ]
    },
    {
      "cell_type": "code",
      "execution_count": null,
      "metadata": {
        "id": "XgovBhnBQlI3"
      },
      "outputs": [],
      "source": [
        "base_path = \"/content/drive/MyDrive/airbnb/data/\"\n",
        "np.save(base_path + \"img.npy\", np.array([X_img_train, X_img_val, X_img_test], dtype=object))\n",
        "np.save(base_path + \"tab.npy\", np.array([X_tab_train, X_tab_val, X_tab_test], dtype=object))\n",
        "np.save(base_path + \"tag.npy\", np.array([y_train, y_val, y_test], dtype=object))"
      ]
    },
    {
      "cell_type": "markdown",
      "metadata": {
        "id": "wbGRPysZZNSs"
      },
      "source": [
        "\n",
        "\n",
        "---\n",
        "\n"
      ]
    },
    {
      "cell_type": "markdown",
      "source": [
        "### 1.7. Load datasets"
      ],
      "metadata": {
        "id": "1HgC_VjZ5_tJ"
      }
    },
    {
      "cell_type": "code",
      "execution_count": 1,
      "metadata": {
        "colab": {
          "base_uri": "https://localhost:8080/"
        },
        "id": "ljAqtcBTyzSM",
        "outputId": "8ec37cab-4823-48bb-b92c-063ac6b2b525"
      },
      "outputs": [
        {
          "output_type": "stream",
          "name": "stdout",
          "text": [
            "Mounted at /content/drive\n"
          ]
        }
      ],
      "source": [
        "from google.colab import drive\n",
        "drive.mount('/content/drive')"
      ]
    },
    {
      "cell_type": "code",
      "execution_count": 2,
      "metadata": {
        "colab": {
          "base_uri": "https://localhost:8080/"
        },
        "id": "qzcTQRWgR6mb",
        "outputId": "47fca1f3-ee57-4904-ebfb-dbb241b4b371"
      },
      "outputs": [
        {
          "output_type": "stream",
          "name": "stdout",
          "text": [
            "total 1844139\n",
            "-rw------- 1 root root 1887437270 Jul 17 18:11 img.npy\n",
            "-rw------- 1 root root     922055 Jul 17 18:11 tab.npy\n",
            "-rw------- 1 root root      38849 Jul 17 18:11 tag.npy\n"
          ]
        }
      ],
      "source": [
        "%ls -l /content/drive/MyDrive/airbnb/data"
      ]
    },
    {
      "cell_type": "code",
      "execution_count": 3,
      "metadata": {
        "id": "bfFGaaFHR6OP"
      },
      "outputs": [],
      "source": [
        "import numpy as np\n",
        "\n",
        "base_path = \"/content/drive/MyDrive/airbnb/data/\"\n",
        "X_img_train, X_img_val, X_img_test = np.load(base_path + \"img.npy\", allow_pickle=True)\n",
        "X_tab_train, X_tab_val, X_tab_test = np.load(base_path + \"tab.npy\", allow_pickle=True)\n",
        "y_train, y_val, y_test = np.load(base_path + \"tag.npy\", allow_pickle=True)"
      ]
    },
    {
      "cell_type": "markdown",
      "source": [
        "### 1.8. Define number of tag classes"
      ],
      "metadata": {
        "id": "-KVHZ1t06Jzt"
      }
    },
    {
      "cell_type": "code",
      "execution_count": 4,
      "metadata": {
        "id": "gUMVfiNty9Mh"
      },
      "outputs": [],
      "source": [
        "from tensorflow.keras.utils import to_categorical\n",
        "from sklearn.preprocessing import MinMaxScaler\n",
        "\n",
        "def set_classes(y_train, y_val, y_test, n_classes=0, scale=False):\n",
        "  if n_classes:\n",
        "    p = np.linspace(1 / n_classes, 1, n_classes)\n",
        "    quantiles = np.quantile(y_train, p)\n",
        "\n",
        "    q_min = 0\n",
        "    for i, q in enumerate(quantiles):\n",
        "      y_train[(q_min < y_train) & (y_train <= q)] = i\n",
        "      y_val[(q_min < y_val) & (y_val <= q)] = i\n",
        "      y_test[(q_min <  y_test) & (y_test <= q)] = i\n",
        "      q_min = q\n",
        "\n",
        "    y_train = to_categorical(y_train, n_classes)\n",
        "    y_val = to_categorical(y_val, n_classes)\n",
        "    y_test = to_categorical(y_test, n_classes)\n",
        "\n",
        "  scaler = None\n",
        "  if scale:\n",
        "    scaler = MinMaxScaler()\n",
        "    y_train = scaler.fit_transform(y_train)\n",
        "    y_val = scaler.transform(y_val)\n",
        "    y_test = scaler.transform(test)\n",
        "\n",
        "  return y_train, y_val, y_test, scaler"
      ]
    },
    {
      "cell_type": "code",
      "source": [
        "n_classes = 3\n",
        "Y_train, Y_val, Y_test, _ = set_classes(y_train, y_val, y_test, n_classes=n_classes)"
      ],
      "metadata": {
        "id": "NEQ1Lq3SJ_xo"
      },
      "execution_count": 5,
      "outputs": []
    },
    {
      "cell_type": "markdown",
      "source": [
        "# **2. Modelling**"
      ],
      "metadata": {
        "id": "TP0HeJHeuyc_"
      }
    },
    {
      "cell_type": "code",
      "source": [
        "import tensorflow as tf\n",
        "from tensorflow import keras\n",
        "from keras import Input\n",
        "from keras.models import Model, Sequential\n",
        "from keras.layers import GlobalAveragePooling2D, Dense, Flatten, Dropout\n",
        "from keras.optimizers import Adam\n",
        "from keras.regularizers import L1\n",
        "from keras.callbacks import EarlyStopping, History"
      ],
      "metadata": {
        "id": "7o66dIppADxM"
      },
      "execution_count": 6,
      "outputs": []
    },
    {
      "cell_type": "markdown",
      "source": [
        "## 2.1. Convolutional neural networks"
      ],
      "metadata": {
        "id": "13pYItts6VQy"
      }
    },
    {
      "cell_type": "markdown",
      "source": [
        "### 2.1.2. Transfer Learning"
      ],
      "metadata": {
        "id": "hfs1YiCu50BE"
      }
    },
    {
      "cell_type": "code",
      "source": [
        "base_model = keras.applications.Xception(\n",
        "    weights='imagenet',\n",
        "    input_shape=(img_shape[0], img_shape[1], 3),\n",
        "    include_top=False)\n",
        "\n",
        "# Freeze base model\n",
        "base_model.trainable = False\n",
        "\n",
        "# Create a new model on top\n",
        "inputs = keras.Input(shape=(img_shape[0], img_shape[1], 3))\n",
        "x = base_model(inputs, training=False)\n",
        "x = Flatten()(x)\n",
        "x = Dense(1024, activation='relu')(x)\n",
        "x = Dropout(0.5)(x)\n",
        "outputs = Dense(n_classes, activation='softmax')(x)\n",
        "xception_tl = Model(inputs, outputs)\n",
        "\n",
        "base_model.summary()"
      ],
      "metadata": {
        "colab": {
          "base_uri": "https://localhost:8080/"
        },
        "id": "2vDIzjivIATg",
        "outputId": "0be67c7f-d880-4f6e-9462-e4e9438cddb3"
      },
      "execution_count": 7,
      "outputs": [
        {
          "output_type": "stream",
          "name": "stdout",
          "text": [
            "Downloading data from https://storage.googleapis.com/tensorflow/keras-applications/xception/xception_weights_tf_dim_ordering_tf_kernels_notop.h5\n",
            "83683744/83683744 [==============================] - 5s 0us/step\n",
            "Model: \"xception\"\n",
            "__________________________________________________________________________________________________\n",
            " Layer (type)                   Output Shape         Param #     Connected to                     \n",
            "==================================================================================================\n",
            " input_1 (InputLayer)           [(None, 128, 128, 3  0           []                               \n",
            "                                )]                                                                \n",
            "                                                                                                  \n",
            " block1_conv1 (Conv2D)          (None, 63, 63, 32)   864         ['input_1[0][0]']                \n",
            "                                                                                                  \n",
            " block1_conv1_bn (BatchNormaliz  (None, 63, 63, 32)  128         ['block1_conv1[0][0]']           \n",
            " ation)                                                                                           \n",
            "                                                                                                  \n",
            " block1_conv1_act (Activation)  (None, 63, 63, 32)   0           ['block1_conv1_bn[0][0]']        \n",
            "                                                                                                  \n",
            " block1_conv2 (Conv2D)          (None, 61, 61, 64)   18432       ['block1_conv1_act[0][0]']       \n",
            "                                                                                                  \n",
            " block1_conv2_bn (BatchNormaliz  (None, 61, 61, 64)  256         ['block1_conv2[0][0]']           \n",
            " ation)                                                                                           \n",
            "                                                                                                  \n",
            " block1_conv2_act (Activation)  (None, 61, 61, 64)   0           ['block1_conv2_bn[0][0]']        \n",
            "                                                                                                  \n",
            " block2_sepconv1 (SeparableConv  (None, 61, 61, 128)  8768       ['block1_conv2_act[0][0]']       \n",
            " 2D)                                                                                              \n",
            "                                                                                                  \n",
            " block2_sepconv1_bn (BatchNorma  (None, 61, 61, 128)  512        ['block2_sepconv1[0][0]']        \n",
            " lization)                                                                                        \n",
            "                                                                                                  \n",
            " block2_sepconv2_act (Activatio  (None, 61, 61, 128)  0          ['block2_sepconv1_bn[0][0]']     \n",
            " n)                                                                                               \n",
            "                                                                                                  \n",
            " block2_sepconv2 (SeparableConv  (None, 61, 61, 128)  17536      ['block2_sepconv2_act[0][0]']    \n",
            " 2D)                                                                                              \n",
            "                                                                                                  \n",
            " block2_sepconv2_bn (BatchNorma  (None, 61, 61, 128)  512        ['block2_sepconv2[0][0]']        \n",
            " lization)                                                                                        \n",
            "                                                                                                  \n",
            " conv2d (Conv2D)                (None, 31, 31, 128)  8192        ['block1_conv2_act[0][0]']       \n",
            "                                                                                                  \n",
            " block2_pool (MaxPooling2D)     (None, 31, 31, 128)  0           ['block2_sepconv2_bn[0][0]']     \n",
            "                                                                                                  \n",
            " batch_normalization (BatchNorm  (None, 31, 31, 128)  512        ['conv2d[0][0]']                 \n",
            " alization)                                                                                       \n",
            "                                                                                                  \n",
            " add (Add)                      (None, 31, 31, 128)  0           ['block2_pool[0][0]',            \n",
            "                                                                  'batch_normalization[0][0]']    \n",
            "                                                                                                  \n",
            " block3_sepconv1_act (Activatio  (None, 31, 31, 128)  0          ['add[0][0]']                    \n",
            " n)                                                                                               \n",
            "                                                                                                  \n",
            " block3_sepconv1 (SeparableConv  (None, 31, 31, 256)  33920      ['block3_sepconv1_act[0][0]']    \n",
            " 2D)                                                                                              \n",
            "                                                                                                  \n",
            " block3_sepconv1_bn (BatchNorma  (None, 31, 31, 256)  1024       ['block3_sepconv1[0][0]']        \n",
            " lization)                                                                                        \n",
            "                                                                                                  \n",
            " block3_sepconv2_act (Activatio  (None, 31, 31, 256)  0          ['block3_sepconv1_bn[0][0]']     \n",
            " n)                                                                                               \n",
            "                                                                                                  \n",
            " block3_sepconv2 (SeparableConv  (None, 31, 31, 256)  67840      ['block3_sepconv2_act[0][0]']    \n",
            " 2D)                                                                                              \n",
            "                                                                                                  \n",
            " block3_sepconv2_bn (BatchNorma  (None, 31, 31, 256)  1024       ['block3_sepconv2[0][0]']        \n",
            " lization)                                                                                        \n",
            "                                                                                                  \n",
            " conv2d_1 (Conv2D)              (None, 16, 16, 256)  32768       ['add[0][0]']                    \n",
            "                                                                                                  \n",
            " block3_pool (MaxPooling2D)     (None, 16, 16, 256)  0           ['block3_sepconv2_bn[0][0]']     \n",
            "                                                                                                  \n",
            " batch_normalization_1 (BatchNo  (None, 16, 16, 256)  1024       ['conv2d_1[0][0]']               \n",
            " rmalization)                                                                                     \n",
            "                                                                                                  \n",
            " add_1 (Add)                    (None, 16, 16, 256)  0           ['block3_pool[0][0]',            \n",
            "                                                                  'batch_normalization_1[0][0]']  \n",
            "                                                                                                  \n",
            " block4_sepconv1_act (Activatio  (None, 16, 16, 256)  0          ['add_1[0][0]']                  \n",
            " n)                                                                                               \n",
            "                                                                                                  \n",
            " block4_sepconv1 (SeparableConv  (None, 16, 16, 728)  188672     ['block4_sepconv1_act[0][0]']    \n",
            " 2D)                                                                                              \n",
            "                                                                                                  \n",
            " block4_sepconv1_bn (BatchNorma  (None, 16, 16, 728)  2912       ['block4_sepconv1[0][0]']        \n",
            " lization)                                                                                        \n",
            "                                                                                                  \n",
            " block4_sepconv2_act (Activatio  (None, 16, 16, 728)  0          ['block4_sepconv1_bn[0][0]']     \n",
            " n)                                                                                               \n",
            "                                                                                                  \n",
            " block4_sepconv2 (SeparableConv  (None, 16, 16, 728)  536536     ['block4_sepconv2_act[0][0]']    \n",
            " 2D)                                                                                              \n",
            "                                                                                                  \n",
            " block4_sepconv2_bn (BatchNorma  (None, 16, 16, 728)  2912       ['block4_sepconv2[0][0]']        \n",
            " lization)                                                                                        \n",
            "                                                                                                  \n",
            " conv2d_2 (Conv2D)              (None, 8, 8, 728)    186368      ['add_1[0][0]']                  \n",
            "                                                                                                  \n",
            " block4_pool (MaxPooling2D)     (None, 8, 8, 728)    0           ['block4_sepconv2_bn[0][0]']     \n",
            "                                                                                                  \n",
            " batch_normalization_2 (BatchNo  (None, 8, 8, 728)   2912        ['conv2d_2[0][0]']               \n",
            " rmalization)                                                                                     \n",
            "                                                                                                  \n",
            " add_2 (Add)                    (None, 8, 8, 728)    0           ['block4_pool[0][0]',            \n",
            "                                                                  'batch_normalization_2[0][0]']  \n",
            "                                                                                                  \n",
            " block5_sepconv1_act (Activatio  (None, 8, 8, 728)   0           ['add_2[0][0]']                  \n",
            " n)                                                                                               \n",
            "                                                                                                  \n",
            " block5_sepconv1 (SeparableConv  (None, 8, 8, 728)   536536      ['block5_sepconv1_act[0][0]']    \n",
            " 2D)                                                                                              \n",
            "                                                                                                  \n",
            " block5_sepconv1_bn (BatchNorma  (None, 8, 8, 728)   2912        ['block5_sepconv1[0][0]']        \n",
            " lization)                                                                                        \n",
            "                                                                                                  \n",
            " block5_sepconv2_act (Activatio  (None, 8, 8, 728)   0           ['block5_sepconv1_bn[0][0]']     \n",
            " n)                                                                                               \n",
            "                                                                                                  \n",
            " block5_sepconv2 (SeparableConv  (None, 8, 8, 728)   536536      ['block5_sepconv2_act[0][0]']    \n",
            " 2D)                                                                                              \n",
            "                                                                                                  \n",
            " block5_sepconv2_bn (BatchNorma  (None, 8, 8, 728)   2912        ['block5_sepconv2[0][0]']        \n",
            " lization)                                                                                        \n",
            "                                                                                                  \n",
            " block5_sepconv3_act (Activatio  (None, 8, 8, 728)   0           ['block5_sepconv2_bn[0][0]']     \n",
            " n)                                                                                               \n",
            "                                                                                                  \n",
            " block5_sepconv3 (SeparableConv  (None, 8, 8, 728)   536536      ['block5_sepconv3_act[0][0]']    \n",
            " 2D)                                                                                              \n",
            "                                                                                                  \n",
            " block5_sepconv3_bn (BatchNorma  (None, 8, 8, 728)   2912        ['block5_sepconv3[0][0]']        \n",
            " lization)                                                                                        \n",
            "                                                                                                  \n",
            " add_3 (Add)                    (None, 8, 8, 728)    0           ['block5_sepconv3_bn[0][0]',     \n",
            "                                                                  'add_2[0][0]']                  \n",
            "                                                                                                  \n",
            " block6_sepconv1_act (Activatio  (None, 8, 8, 728)   0           ['add_3[0][0]']                  \n",
            " n)                                                                                               \n",
            "                                                                                                  \n",
            " block6_sepconv1 (SeparableConv  (None, 8, 8, 728)   536536      ['block6_sepconv1_act[0][0]']    \n",
            " 2D)                                                                                              \n",
            "                                                                                                  \n",
            " block6_sepconv1_bn (BatchNorma  (None, 8, 8, 728)   2912        ['block6_sepconv1[0][0]']        \n",
            " lization)                                                                                        \n",
            "                                                                                                  \n",
            " block6_sepconv2_act (Activatio  (None, 8, 8, 728)   0           ['block6_sepconv1_bn[0][0]']     \n",
            " n)                                                                                               \n",
            "                                                                                                  \n",
            " block6_sepconv2 (SeparableConv  (None, 8, 8, 728)   536536      ['block6_sepconv2_act[0][0]']    \n",
            " 2D)                                                                                              \n",
            "                                                                                                  \n",
            " block6_sepconv2_bn (BatchNorma  (None, 8, 8, 728)   2912        ['block6_sepconv2[0][0]']        \n",
            " lization)                                                                                        \n",
            "                                                                                                  \n",
            " block6_sepconv3_act (Activatio  (None, 8, 8, 728)   0           ['block6_sepconv2_bn[0][0]']     \n",
            " n)                                                                                               \n",
            "                                                                                                  \n",
            " block6_sepconv3 (SeparableConv  (None, 8, 8, 728)   536536      ['block6_sepconv3_act[0][0]']    \n",
            " 2D)                                                                                              \n",
            "                                                                                                  \n",
            " block6_sepconv3_bn (BatchNorma  (None, 8, 8, 728)   2912        ['block6_sepconv3[0][0]']        \n",
            " lization)                                                                                        \n",
            "                                                                                                  \n",
            " add_4 (Add)                    (None, 8, 8, 728)    0           ['block6_sepconv3_bn[0][0]',     \n",
            "                                                                  'add_3[0][0]']                  \n",
            "                                                                                                  \n",
            " block7_sepconv1_act (Activatio  (None, 8, 8, 728)   0           ['add_4[0][0]']                  \n",
            " n)                                                                                               \n",
            "                                                                                                  \n",
            " block7_sepconv1 (SeparableConv  (None, 8, 8, 728)   536536      ['block7_sepconv1_act[0][0]']    \n",
            " 2D)                                                                                              \n",
            "                                                                                                  \n",
            " block7_sepconv1_bn (BatchNorma  (None, 8, 8, 728)   2912        ['block7_sepconv1[0][0]']        \n",
            " lization)                                                                                        \n",
            "                                                                                                  \n",
            " block7_sepconv2_act (Activatio  (None, 8, 8, 728)   0           ['block7_sepconv1_bn[0][0]']     \n",
            " n)                                                                                               \n",
            "                                                                                                  \n",
            " block7_sepconv2 (SeparableConv  (None, 8, 8, 728)   536536      ['block7_sepconv2_act[0][0]']    \n",
            " 2D)                                                                                              \n",
            "                                                                                                  \n",
            " block7_sepconv2_bn (BatchNorma  (None, 8, 8, 728)   2912        ['block7_sepconv2[0][0]']        \n",
            " lization)                                                                                        \n",
            "                                                                                                  \n",
            " block7_sepconv3_act (Activatio  (None, 8, 8, 728)   0           ['block7_sepconv2_bn[0][0]']     \n",
            " n)                                                                                               \n",
            "                                                                                                  \n",
            " block7_sepconv3 (SeparableConv  (None, 8, 8, 728)   536536      ['block7_sepconv3_act[0][0]']    \n",
            " 2D)                                                                                              \n",
            "                                                                                                  \n",
            " block7_sepconv3_bn (BatchNorma  (None, 8, 8, 728)   2912        ['block7_sepconv3[0][0]']        \n",
            " lization)                                                                                        \n",
            "                                                                                                  \n",
            " add_5 (Add)                    (None, 8, 8, 728)    0           ['block7_sepconv3_bn[0][0]',     \n",
            "                                                                  'add_4[0][0]']                  \n",
            "                                                                                                  \n",
            " block8_sepconv1_act (Activatio  (None, 8, 8, 728)   0           ['add_5[0][0]']                  \n",
            " n)                                                                                               \n",
            "                                                                                                  \n",
            " block8_sepconv1 (SeparableConv  (None, 8, 8, 728)   536536      ['block8_sepconv1_act[0][0]']    \n",
            " 2D)                                                                                              \n",
            "                                                                                                  \n",
            " block8_sepconv1_bn (BatchNorma  (None, 8, 8, 728)   2912        ['block8_sepconv1[0][0]']        \n",
            " lization)                                                                                        \n",
            "                                                                                                  \n",
            " block8_sepconv2_act (Activatio  (None, 8, 8, 728)   0           ['block8_sepconv1_bn[0][0]']     \n",
            " n)                                                                                               \n",
            "                                                                                                  \n",
            " block8_sepconv2 (SeparableConv  (None, 8, 8, 728)   536536      ['block8_sepconv2_act[0][0]']    \n",
            " 2D)                                                                                              \n",
            "                                                                                                  \n",
            " block8_sepconv2_bn (BatchNorma  (None, 8, 8, 728)   2912        ['block8_sepconv2[0][0]']        \n",
            " lization)                                                                                        \n",
            "                                                                                                  \n",
            " block8_sepconv3_act (Activatio  (None, 8, 8, 728)   0           ['block8_sepconv2_bn[0][0]']     \n",
            " n)                                                                                               \n",
            "                                                                                                  \n",
            " block8_sepconv3 (SeparableConv  (None, 8, 8, 728)   536536      ['block8_sepconv3_act[0][0]']    \n",
            " 2D)                                                                                              \n",
            "                                                                                                  \n",
            " block8_sepconv3_bn (BatchNorma  (None, 8, 8, 728)   2912        ['block8_sepconv3[0][0]']        \n",
            " lization)                                                                                        \n",
            "                                                                                                  \n",
            " add_6 (Add)                    (None, 8, 8, 728)    0           ['block8_sepconv3_bn[0][0]',     \n",
            "                                                                  'add_5[0][0]']                  \n",
            "                                                                                                  \n",
            " block9_sepconv1_act (Activatio  (None, 8, 8, 728)   0           ['add_6[0][0]']                  \n",
            " n)                                                                                               \n",
            "                                                                                                  \n",
            " block9_sepconv1 (SeparableConv  (None, 8, 8, 728)   536536      ['block9_sepconv1_act[0][0]']    \n",
            " 2D)                                                                                              \n",
            "                                                                                                  \n",
            " block9_sepconv1_bn (BatchNorma  (None, 8, 8, 728)   2912        ['block9_sepconv1[0][0]']        \n",
            " lization)                                                                                        \n",
            "                                                                                                  \n",
            " block9_sepconv2_act (Activatio  (None, 8, 8, 728)   0           ['block9_sepconv1_bn[0][0]']     \n",
            " n)                                                                                               \n",
            "                                                                                                  \n",
            " block9_sepconv2 (SeparableConv  (None, 8, 8, 728)   536536      ['block9_sepconv2_act[0][0]']    \n",
            " 2D)                                                                                              \n",
            "                                                                                                  \n",
            " block9_sepconv2_bn (BatchNorma  (None, 8, 8, 728)   2912        ['block9_sepconv2[0][0]']        \n",
            " lization)                                                                                        \n",
            "                                                                                                  \n",
            " block9_sepconv3_act (Activatio  (None, 8, 8, 728)   0           ['block9_sepconv2_bn[0][0]']     \n",
            " n)                                                                                               \n",
            "                                                                                                  \n",
            " block9_sepconv3 (SeparableConv  (None, 8, 8, 728)   536536      ['block9_sepconv3_act[0][0]']    \n",
            " 2D)                                                                                              \n",
            "                                                                                                  \n",
            " block9_sepconv3_bn (BatchNorma  (None, 8, 8, 728)   2912        ['block9_sepconv3[0][0]']        \n",
            " lization)                                                                                        \n",
            "                                                                                                  \n",
            " add_7 (Add)                    (None, 8, 8, 728)    0           ['block9_sepconv3_bn[0][0]',     \n",
            "                                                                  'add_6[0][0]']                  \n",
            "                                                                                                  \n",
            " block10_sepconv1_act (Activati  (None, 8, 8, 728)   0           ['add_7[0][0]']                  \n",
            " on)                                                                                              \n",
            "                                                                                                  \n",
            " block10_sepconv1 (SeparableCon  (None, 8, 8, 728)   536536      ['block10_sepconv1_act[0][0]']   \n",
            " v2D)                                                                                             \n",
            "                                                                                                  \n",
            " block10_sepconv1_bn (BatchNorm  (None, 8, 8, 728)   2912        ['block10_sepconv1[0][0]']       \n",
            " alization)                                                                                       \n",
            "                                                                                                  \n",
            " block10_sepconv2_act (Activati  (None, 8, 8, 728)   0           ['block10_sepconv1_bn[0][0]']    \n",
            " on)                                                                                              \n",
            "                                                                                                  \n",
            " block10_sepconv2 (SeparableCon  (None, 8, 8, 728)   536536      ['block10_sepconv2_act[0][0]']   \n",
            " v2D)                                                                                             \n",
            "                                                                                                  \n",
            " block10_sepconv2_bn (BatchNorm  (None, 8, 8, 728)   2912        ['block10_sepconv2[0][0]']       \n",
            " alization)                                                                                       \n",
            "                                                                                                  \n",
            " block10_sepconv3_act (Activati  (None, 8, 8, 728)   0           ['block10_sepconv2_bn[0][0]']    \n",
            " on)                                                                                              \n",
            "                                                                                                  \n",
            " block10_sepconv3 (SeparableCon  (None, 8, 8, 728)   536536      ['block10_sepconv3_act[0][0]']   \n",
            " v2D)                                                                                             \n",
            "                                                                                                  \n",
            " block10_sepconv3_bn (BatchNorm  (None, 8, 8, 728)   2912        ['block10_sepconv3[0][0]']       \n",
            " alization)                                                                                       \n",
            "                                                                                                  \n",
            " add_8 (Add)                    (None, 8, 8, 728)    0           ['block10_sepconv3_bn[0][0]',    \n",
            "                                                                  'add_7[0][0]']                  \n",
            "                                                                                                  \n",
            " block11_sepconv1_act (Activati  (None, 8, 8, 728)   0           ['add_8[0][0]']                  \n",
            " on)                                                                                              \n",
            "                                                                                                  \n",
            " block11_sepconv1 (SeparableCon  (None, 8, 8, 728)   536536      ['block11_sepconv1_act[0][0]']   \n",
            " v2D)                                                                                             \n",
            "                                                                                                  \n",
            " block11_sepconv1_bn (BatchNorm  (None, 8, 8, 728)   2912        ['block11_sepconv1[0][0]']       \n",
            " alization)                                                                                       \n",
            "                                                                                                  \n",
            " block11_sepconv2_act (Activati  (None, 8, 8, 728)   0           ['block11_sepconv1_bn[0][0]']    \n",
            " on)                                                                                              \n",
            "                                                                                                  \n",
            " block11_sepconv2 (SeparableCon  (None, 8, 8, 728)   536536      ['block11_sepconv2_act[0][0]']   \n",
            " v2D)                                                                                             \n",
            "                                                                                                  \n",
            " block11_sepconv2_bn (BatchNorm  (None, 8, 8, 728)   2912        ['block11_sepconv2[0][0]']       \n",
            " alization)                                                                                       \n",
            "                                                                                                  \n",
            " block11_sepconv3_act (Activati  (None, 8, 8, 728)   0           ['block11_sepconv2_bn[0][0]']    \n",
            " on)                                                                                              \n",
            "                                                                                                  \n",
            " block11_sepconv3 (SeparableCon  (None, 8, 8, 728)   536536      ['block11_sepconv3_act[0][0]']   \n",
            " v2D)                                                                                             \n",
            "                                                                                                  \n",
            " block11_sepconv3_bn (BatchNorm  (None, 8, 8, 728)   2912        ['block11_sepconv3[0][0]']       \n",
            " alization)                                                                                       \n",
            "                                                                                                  \n",
            " add_9 (Add)                    (None, 8, 8, 728)    0           ['block11_sepconv3_bn[0][0]',    \n",
            "                                                                  'add_8[0][0]']                  \n",
            "                                                                                                  \n",
            " block12_sepconv1_act (Activati  (None, 8, 8, 728)   0           ['add_9[0][0]']                  \n",
            " on)                                                                                              \n",
            "                                                                                                  \n",
            " block12_sepconv1 (SeparableCon  (None, 8, 8, 728)   536536      ['block12_sepconv1_act[0][0]']   \n",
            " v2D)                                                                                             \n",
            "                                                                                                  \n",
            " block12_sepconv1_bn (BatchNorm  (None, 8, 8, 728)   2912        ['block12_sepconv1[0][0]']       \n",
            " alization)                                                                                       \n",
            "                                                                                                  \n",
            " block12_sepconv2_act (Activati  (None, 8, 8, 728)   0           ['block12_sepconv1_bn[0][0]']    \n",
            " on)                                                                                              \n",
            "                                                                                                  \n",
            " block12_sepconv2 (SeparableCon  (None, 8, 8, 728)   536536      ['block12_sepconv2_act[0][0]']   \n",
            " v2D)                                                                                             \n",
            "                                                                                                  \n",
            " block12_sepconv2_bn (BatchNorm  (None, 8, 8, 728)   2912        ['block12_sepconv2[0][0]']       \n",
            " alization)                                                                                       \n",
            "                                                                                                  \n",
            " block12_sepconv3_act (Activati  (None, 8, 8, 728)   0           ['block12_sepconv2_bn[0][0]']    \n",
            " on)                                                                                              \n",
            "                                                                                                  \n",
            " block12_sepconv3 (SeparableCon  (None, 8, 8, 728)   536536      ['block12_sepconv3_act[0][0]']   \n",
            " v2D)                                                                                             \n",
            "                                                                                                  \n",
            " block12_sepconv3_bn (BatchNorm  (None, 8, 8, 728)   2912        ['block12_sepconv3[0][0]']       \n",
            " alization)                                                                                       \n",
            "                                                                                                  \n",
            " add_10 (Add)                   (None, 8, 8, 728)    0           ['block12_sepconv3_bn[0][0]',    \n",
            "                                                                  'add_9[0][0]']                  \n",
            "                                                                                                  \n",
            " block13_sepconv1_act (Activati  (None, 8, 8, 728)   0           ['add_10[0][0]']                 \n",
            " on)                                                                                              \n",
            "                                                                                                  \n",
            " block13_sepconv1 (SeparableCon  (None, 8, 8, 728)   536536      ['block13_sepconv1_act[0][0]']   \n",
            " v2D)                                                                                             \n",
            "                                                                                                  \n",
            " block13_sepconv1_bn (BatchNorm  (None, 8, 8, 728)   2912        ['block13_sepconv1[0][0]']       \n",
            " alization)                                                                                       \n",
            "                                                                                                  \n",
            " block13_sepconv2_act (Activati  (None, 8, 8, 728)   0           ['block13_sepconv1_bn[0][0]']    \n",
            " on)                                                                                              \n",
            "                                                                                                  \n",
            " block13_sepconv2 (SeparableCon  (None, 8, 8, 1024)  752024      ['block13_sepconv2_act[0][0]']   \n",
            " v2D)                                                                                             \n",
            "                                                                                                  \n",
            " block13_sepconv2_bn (BatchNorm  (None, 8, 8, 1024)  4096        ['block13_sepconv2[0][0]']       \n",
            " alization)                                                                                       \n",
            "                                                                                                  \n",
            " conv2d_3 (Conv2D)              (None, 4, 4, 1024)   745472      ['add_10[0][0]']                 \n",
            "                                                                                                  \n",
            " block13_pool (MaxPooling2D)    (None, 4, 4, 1024)   0           ['block13_sepconv2_bn[0][0]']    \n",
            "                                                                                                  \n",
            " batch_normalization_3 (BatchNo  (None, 4, 4, 1024)  4096        ['conv2d_3[0][0]']               \n",
            " rmalization)                                                                                     \n",
            "                                                                                                  \n",
            " add_11 (Add)                   (None, 4, 4, 1024)   0           ['block13_pool[0][0]',           \n",
            "                                                                  'batch_normalization_3[0][0]']  \n",
            "                                                                                                  \n",
            " block14_sepconv1 (SeparableCon  (None, 4, 4, 1536)  1582080     ['add_11[0][0]']                 \n",
            " v2D)                                                                                             \n",
            "                                                                                                  \n",
            " block14_sepconv1_bn (BatchNorm  (None, 4, 4, 1536)  6144        ['block14_sepconv1[0][0]']       \n",
            " alization)                                                                                       \n",
            "                                                                                                  \n",
            " block14_sepconv1_act (Activati  (None, 4, 4, 1536)  0           ['block14_sepconv1_bn[0][0]']    \n",
            " on)                                                                                              \n",
            "                                                                                                  \n",
            " block14_sepconv2 (SeparableCon  (None, 4, 4, 2048)  3159552     ['block14_sepconv1_act[0][0]']   \n",
            " v2D)                                                                                             \n",
            "                                                                                                  \n",
            " block14_sepconv2_bn (BatchNorm  (None, 4, 4, 2048)  8192        ['block14_sepconv2[0][0]']       \n",
            " alization)                                                                                       \n",
            "                                                                                                  \n",
            " block14_sepconv2_act (Activati  (None, 4, 4, 2048)  0           ['block14_sepconv2_bn[0][0]']    \n",
            " on)                                                                                              \n",
            "                                                                                                  \n",
            "==================================================================================================\n",
            "Total params: 20,861,480\n",
            "Trainable params: 0\n",
            "Non-trainable params: 20,861,480\n",
            "__________________________________________________________________________________________________\n"
          ]
        }
      ]
    },
    {
      "cell_type": "code",
      "source": [
        "# Compile the model\n",
        "xception_tl.compile(loss='categorical_crossentropy',\n",
        "                    optimizer=Adam(learning_rate=1e-3),\n",
        "                    metrics=['accuracy'])\n",
        "\n",
        "# Set history early-stopping callbacks\n",
        "history = History()\n",
        "earlystopping = EarlyStopping(monitor='val_loss',\n",
        "                              patience=3,\n",
        "                              verbose=0,\n",
        "                              mode='auto')\n",
        "\n",
        "# Train the model on new data\n",
        "xception_tl.fit(X_img_train,\n",
        "                Y_train,\n",
        "                batch_size=64,\n",
        "                epochs=10,\n",
        "                validation_data=(X_img_val, Y_val),\n",
        "                callbacks=[history, earlystopping])"
      ],
      "metadata": {
        "colab": {
          "base_uri": "https://localhost:8080/"
        },
        "id": "c4KwLOrwREwu",
        "outputId": "a129391d-1ed2-4b7a-d685-8e58278a128e"
      },
      "execution_count": 8,
      "outputs": [
        {
          "output_type": "stream",
          "name": "stdout",
          "text": [
            "Epoch 1/10\n",
            "102/102 [==============================] - 26s 137ms/step - loss: 3.4173 - accuracy: 0.4236 - val_loss: 0.9950 - val_accuracy: 0.4926\n",
            "Epoch 2/10\n",
            "102/102 [==============================] - 12s 119ms/step - loss: 1.0115 - accuracy: 0.4764 - val_loss: 0.9913 - val_accuracy: 0.5117\n",
            "Epoch 3/10\n",
            "102/102 [==============================] - 12s 121ms/step - loss: 0.9863 - accuracy: 0.4997 - val_loss: 0.9704 - val_accuracy: 0.5160\n",
            "Epoch 4/10\n",
            "102/102 [==============================] - 12s 122ms/step - loss: 0.9724 - accuracy: 0.5193 - val_loss: 0.9848 - val_accuracy: 0.5030\n",
            "Epoch 5/10\n",
            "102/102 [==============================] - 13s 125ms/step - loss: 0.9584 - accuracy: 0.5245 - val_loss: 1.0079 - val_accuracy: 0.4597\n",
            "Epoch 6/10\n",
            "102/102 [==============================] - 12s 117ms/step - loss: 0.9472 - accuracy: 0.5229 - val_loss: 0.9898 - val_accuracy: 0.5108\n"
          ]
        },
        {
          "output_type": "execute_result",
          "data": {
            "text/plain": [
              "<keras.callbacks.History at 0x7a1feb93b610>"
            ]
          },
          "metadata": {},
          "execution_count": 8
        }
      ]
    },
    {
      "cell_type": "code",
      "source": [
        "from matplotlib import pyplot as plt\n",
        "\n",
        "# Plot training-and-validation loss and accuracy metrics\n",
        "def history_loss_accuracy(history, n_classes):\n",
        "    plt.figure()\n",
        "    plt.plot(history.history[\"loss\"], label=\"train_loss\")\n",
        "    plt.plot(history.history[\"val_loss\"], label=\"val_loss\")\n",
        "    plt.plot(history.history[\"accuracy\"], label=\"train_acc\")\n",
        "    plt.plot(history.history[\"val_accuracy\"], label=\"val_acc\")\n",
        "    plt.axhline(y=1 / n_classes, color='grey', linestyle=\"dotted\")\n",
        "    plt.title(\"Training vs Validation Loss and Accuracy\")\n",
        "    plt.xlabel(\"Epoch #\")\n",
        "    plt.ylabel(\"Loss/Accuracy\")\n",
        "    plt.legend()\n",
        "    plt.show()"
      ],
      "metadata": {
        "id": "6dKWK6wa1LHQ"
      },
      "execution_count": 9,
      "outputs": []
    },
    {
      "cell_type": "code",
      "source": [
        "history_loss_accuracy(history, n_classes)"
      ],
      "metadata": {
        "colab": {
          "base_uri": "https://localhost:8080/",
          "height": 472
        },
        "id": "1WobqMtBD8a_",
        "outputId": "8018ef80-f7a8-429a-c34b-faee9fbc0314"
      },
      "execution_count": 10,
      "outputs": [
        {
          "output_type": "display_data",
          "data": {
            "text/plain": [
              "<Figure size 640x480 with 1 Axes>"
            ],
            "image/png": "[encoded data removed]"
          },
          "metadata": {}
        }
      ]
    },
    {
      "cell_type": "code",
      "source": [
        "# Test scores\n",
        "scores = xception_tl.evaluate(X_img_test, Y_test)\n",
        "print(f\"Test Loss: {scores[0]:.4f}\")\n",
        "print(f\"Test Accuracy: {scores[1]:.4f}\")"
      ],
      "metadata": {
        "colab": {
          "base_uri": "https://localhost:8080/"
        },
        "id": "4Qcdgr0DXWcM",
        "outputId": "0a5014b1-701c-402e-d4b7-7e9cd0ad359f"
      },
      "execution_count": 11,
      "outputs": [
        {
          "output_type": "stream",
          "name": "stdout",
          "text": [
            "61/61 [==============================] - 4s 59ms/step - loss: 0.9950 - accuracy: 0.4982\n",
            "Test Loss: 0.9950\n",
            "Test Accuracy: 0.4982\n"
          ]
        }
      ]
    },
    {
      "cell_type": "markdown",
      "source": [
        "### 2.1.2. Fine-tuning"
      ],
      "metadata": {
        "id": "zi04QK1r5tbH"
      }
    },
    {
      "cell_type": "code",
      "source": [
        "for layer in base_model.layers:\n",
        "  if layer.name in (\"block14_sepconv2 \", \"block14_sepconv2_bn\"):\n",
        "    layer.trainable = True\n",
        "\n",
        "# Create a new model on top\n",
        "inputs = keras.Input(shape=(img_shape[0], img_shape[1], 3))\n",
        "x = base_model(inputs, training=False)\n",
        "x = Flatten()(x)\n",
        "x = Dense(1024, activation='relu')(x)\n",
        "x = Dropout(0.5)(x)\n",
        "outputs = Dense(n_classes, activation='softmax')(x)\n",
        "xception_ft = Model(inputs, outputs)\n",
        "\n",
        "xception_ft.summary()"
      ],
      "metadata": {
        "id": "s2Ey_UOEhaXN",
        "colab": {
          "base_uri": "https://localhost:8080/"
        },
        "outputId": "bab3b616-c08c-4d1b-dfa6-cca4fa1369e7"
      },
      "execution_count": 12,
      "outputs": [
        {
          "output_type": "stream",
          "name": "stdout",
          "text": [
            "Model: \"model_1\"\n",
            "_________________________________________________________________\n",
            " Layer (type)                Output Shape              Param #   \n",
            "=================================================================\n",
            " input_3 (InputLayer)        [(None, 128, 128, 3)]     0         \n",
            "                                                                 \n",
            " xception (Functional)       (None, 4, 4, 2048)        20861480  \n",
            "                                                                 \n",
            " flatten_1 (Flatten)         (None, 32768)             0         \n",
            "                                                                 \n",
            " dense_2 (Dense)             (None, 1024)              33555456  \n",
            "                                                                 \n",
            " dropout_1 (Dropout)         (None, 1024)              0         \n",
            "                                                                 \n",
            " dense_3 (Dense)             (None, 3)                 3075      \n",
            "                                                                 \n",
            "=================================================================\n",
            "Total params: 54,420,011\n",
            "Trainable params: 33,558,531\n",
            "Non-trainable params: 20,861,480\n",
            "_________________________________________________________________\n"
          ]
        }
      ]
    },
    {
      "cell_type": "code",
      "source": [
        "# Compile the model\n",
        "xception_ft.compile(loss='categorical_crossentropy',\n",
        "                    optimizer=Adam(learning_rate=1e-3),\n",
        "                    metrics=['accuracy'])\n",
        "\n",
        "# Set history early-stopping callbacks\n",
        "history = History()\n",
        "earlystopping = EarlyStopping(monitor='val_loss',\n",
        "                              patience=3,\n",
        "                              verbose=0,\n",
        "                              mode='auto')\n",
        "\n",
        "# Train the model on new data\n",
        "xception_ft.fit(X_img_train,\n",
        "                Y_train,\n",
        "                batch_size=64,\n",
        "                epochs=10,\n",
        "                validation_data=(X_img_val, Y_val),\n",
        "                callbacks=[history, earlystopping])"
      ],
      "metadata": {
        "id": "5zUlJ0zxnvlI",
        "colab": {
          "base_uri": "https://localhost:8080/"
        },
        "outputId": "efba276a-7697-45ca-cb47-5e2e1adc4ecc"
      },
      "execution_count": 13,
      "outputs": [
        {
          "output_type": "stream",
          "name": "stdout",
          "text": [
            "Epoch 1/10\n",
            "102/102 [==============================] - 17s 142ms/step - loss: 3.0701 - accuracy: 0.4229 - val_loss: 1.0143 - val_accuracy: 0.4857\n",
            "Epoch 2/10\n",
            "102/102 [==============================] - 14s 133ms/step - loss: 1.0126 - accuracy: 0.4854 - val_loss: 0.9842 - val_accuracy: 0.4866\n",
            "Epoch 3/10\n",
            "102/102 [==============================] - 13s 125ms/step - loss: 0.9946 - accuracy: 0.5005 - val_loss: 0.9891 - val_accuracy: 0.4753\n",
            "Epoch 4/10\n",
            "102/102 [==============================] - 12s 122ms/step - loss: 0.9720 - accuracy: 0.5166 - val_loss: 0.9713 - val_accuracy: 0.4987\n",
            "Epoch 5/10\n",
            "102/102 [==============================] - 12s 121ms/step - loss: 0.9575 - accuracy: 0.5317 - val_loss: 0.9830 - val_accuracy: 0.5100\n",
            "Epoch 6/10\n",
            "102/102 [==============================] - 12s 120ms/step - loss: 0.9435 - accuracy: 0.5327 - val_loss: 0.9912 - val_accuracy: 0.4952\n",
            "Epoch 7/10\n",
            "102/102 [==============================] - 12s 120ms/step - loss: 0.9409 - accuracy: 0.5382 - val_loss: 0.9692 - val_accuracy: 0.5117\n",
            "Epoch 8/10\n",
            "102/102 [==============================] - 11s 112ms/step - loss: 0.9179 - accuracy: 0.5541 - val_loss: 0.9790 - val_accuracy: 0.5100\n",
            "Epoch 9/10\n",
            "102/102 [==============================] - 12s 123ms/step - loss: 0.8953 - accuracy: 0.5607 - val_loss: 0.9877 - val_accuracy: 0.4987\n",
            "Epoch 10/10\n",
            "102/102 [==============================] - 13s 125ms/step - loss: 0.8843 - accuracy: 0.5580 - val_loss: 1.0028 - val_accuracy: 0.4944\n"
          ]
        },
        {
          "output_type": "execute_result",
          "data": {
            "text/plain": [
              "<keras.callbacks.History at 0x7a1fdc786230>"
            ]
          },
          "metadata": {},
          "execution_count": 13
        }
      ]
    },
    {
      "cell_type": "code",
      "source": [
        "history_loss_accuracy(history, n_classes)"
      ],
      "metadata": {
        "colab": {
          "base_uri": "https://localhost:8080/",
          "height": 472
        },
        "id": "ajuLo33kD-ie",
        "outputId": "ec832d2c-fd15-4bd6-8e25-bf5ead5073f0"
      },
      "execution_count": 14,
      "outputs": [
        {
          "output_type": "display_data",
          "data": {
            "text/plain": [
              "<Figure size 640x480 with 1 Axes>"
            ],
            "image/png": "[encoded data removed]"
          },
          "metadata": {}
        }
      ]
    },
    {
      "cell_type": "code",
      "source": [
        "# Test scores\n",
        "scores = xception_ft.evaluate(X_img_test, Y_test)\n",
        "print(f\"Test Loss: {scores[0]:.4f}\")\n",
        "print(f\"Test Accuracy: {scores[1]:.4f}\")"
      ],
      "metadata": {
        "id": "RT_XuXJZn7Ev",
        "colab": {
          "base_uri": "https://localhost:8080/"
        },
        "outputId": "826be4d5-2679-48ae-d291-266bb8c1865c"
      },
      "execution_count": 15,
      "outputs": [
        {
          "output_type": "stream",
          "name": "stdout",
          "text": [
            "61/61 [==============================] - 3s 49ms/step - loss: 1.0277 - accuracy: 0.4842\n",
            "Test Loss: 1.0277\n",
            "Test Accuracy: 0.4842\n"
          ]
        }
      ]
    },
    {
      "cell_type": "markdown",
      "source": [
        "## 2.2. Fully connected neural network"
      ],
      "metadata": {
        "id": "kkITZIzP6rtK"
      }
    },
    {
      "cell_type": "code",
      "source": [
        "from keras.layers import BatchNormalization, LeakyReLU\n",
        "\n",
        "def classification_nn(input_shape, n_classes):\n",
        "  ann = Sequential()\n",
        "  ann.add(Dense(64,\n",
        "                activation=LeakyReLU(alpha=0.05),\n",
        "                kernel_initializer='normal',\n",
        "                bias_initializer='ones',\n",
        "                input_shape=input_shape))\n",
        "  ann.add(Dropout(0.25))\n",
        "  ann.add(BatchNormalization())\n",
        "  ann.add(Dense(128,\n",
        "                activation=LeakyReLU(alpha=0.05),\n",
        "                kernel_initializer='normal',\n",
        "                bias_initializer='ones'))\n",
        "  ann.add(Dropout(0.25))\n",
        "  ann.add(BatchNormalization())\n",
        "  ann.add(Dense(128,\n",
        "                activation=LeakyReLU(alpha=0.05),\n",
        "                kernel_initializer='normal',\n",
        "                bias_initializer='ones'))\n",
        "  ann.add(Dropout(0.25))\n",
        "  ann.add(BatchNormalization())\n",
        "  ann.add(Dense(n_classes,\n",
        "                activation='softmax',\n",
        "                kernel_initializer='random_uniform'))\n",
        "\n",
        "  return ann"
      ],
      "metadata": {
        "id": "hTtub5hWMPbf"
      },
      "execution_count": 16,
      "outputs": []
    },
    {
      "cell_type": "code",
      "source": [
        "ann = classification_nn((X_tab_train.shape[1],), n_classes)\n",
        "\n",
        "# Compile the model\n",
        "ann.compile(loss='categorical_crossentropy',\n",
        "            optimizer=Adam(learning_rate=1e-3),\n",
        "            metrics=['accuracy'])\n",
        "\n",
        "# Set history early-stopping callbacks\n",
        "history = History()\n",
        "earlystopping = EarlyStopping(monitor='val_loss',\n",
        "                              patience=10,\n",
        "                              verbose=0,\n",
        "                              mode='auto')\n",
        "\n",
        "# Train the model on new data\n",
        "ann.fit(X_tab_train,\n",
        "        Y_train,\n",
        "        batch_size=32,\n",
        "        shuffle=True,\n",
        "        epochs=100,\n",
        "        validation_data=(X_tab_val, Y_val),\n",
        "        callbacks=[history, earlystopping])"
      ],
      "metadata": {
        "id": "VRykenNrjfyo",
        "colab": {
          "base_uri": "https://localhost:8080/"
        },
        "outputId": "eedffd8b-a869-409d-b076-4f139500965a"
      },
      "execution_count": 17,
      "outputs": [
        {
          "output_type": "stream",
          "name": "stdout",
          "text": [
            "Epoch 1/100\n",
            "204/204 [==============================] - 3s 8ms/step - loss: 0.7693 - accuracy: 0.6428 - val_loss: 0.5896 - val_accuracy: 0.7654\n",
            "Epoch 2/100\n",
            "204/204 [==============================] - 1s 6ms/step - loss: 0.6573 - accuracy: 0.7181 - val_loss: 0.5930 - val_accuracy: 0.7680\n",
            "Epoch 3/100\n",
            "204/204 [==============================] - 1s 6ms/step - loss: 0.6361 - accuracy: 0.7271 - val_loss: 0.5693 - val_accuracy: 0.7610\n",
            "Epoch 4/100\n",
            "204/204 [==============================] - 1s 7ms/step - loss: 0.6191 - accuracy: 0.7383 - val_loss: 0.5625 - val_accuracy: 0.7662\n",
            "Epoch 5/100\n",
            "204/204 [==============================] - 1s 6ms/step - loss: 0.6211 - accuracy: 0.7399 - val_loss: 0.5632 - val_accuracy: 0.7723\n",
            "Epoch 6/100\n",
            "204/204 [==============================] - 1s 6ms/step - loss: 0.6141 - accuracy: 0.7434 - val_loss: 0.5631 - val_accuracy: 0.7680\n",
            "Epoch 7/100\n",
            "204/204 [==============================] - 2s 9ms/step - loss: 0.6098 - accuracy: 0.7468 - val_loss: 0.5657 - val_accuracy: 0.7506\n",
            "Epoch 8/100\n",
            "204/204 [==============================] - 2s 10ms/step - loss: 0.6126 - accuracy: 0.7419 - val_loss: 0.5544 - val_accuracy: 0.7671\n",
            "Epoch 9/100\n",
            "204/204 [==============================] - 1s 7ms/step - loss: 0.6036 - accuracy: 0.7485 - val_loss: 0.5575 - val_accuracy: 0.7688\n",
            "Epoch 10/100\n",
            "204/204 [==============================] - 1s 6ms/step - loss: 0.6069 - accuracy: 0.7419 - val_loss: 0.5511 - val_accuracy: 0.7714\n",
            "Epoch 11/100\n",
            "204/204 [==============================] - 1s 6ms/step - loss: 0.6073 - accuracy: 0.7480 - val_loss: 0.5534 - val_accuracy: 0.7619\n",
            "Epoch 12/100\n",
            "204/204 [==============================] - 1s 6ms/step - loss: 0.5998 - accuracy: 0.7531 - val_loss: 0.5610 - val_accuracy: 0.7541\n",
            "Epoch 13/100\n",
            "204/204 [==============================] - 1s 6ms/step - loss: 0.5918 - accuracy: 0.7554 - val_loss: 0.5485 - val_accuracy: 0.7697\n",
            "Epoch 14/100\n",
            "204/204 [==============================] - 1s 6ms/step - loss: 0.5940 - accuracy: 0.7485 - val_loss: 0.5525 - val_accuracy: 0.7636\n",
            "Epoch 15/100\n",
            "204/204 [==============================] - 1s 6ms/step - loss: 0.5879 - accuracy: 0.7555 - val_loss: 0.5463 - val_accuracy: 0.7706\n",
            "Epoch 16/100\n",
            "204/204 [==============================] - 1s 6ms/step - loss: 0.5944 - accuracy: 0.7518 - val_loss: 0.5494 - val_accuracy: 0.7688\n",
            "Epoch 17/100\n",
            "204/204 [==============================] - 2s 9ms/step - loss: 0.5860 - accuracy: 0.7569 - val_loss: 0.5449 - val_accuracy: 0.7680\n",
            "Epoch 18/100\n",
            "204/204 [==============================] - 2s 9ms/step - loss: 0.5835 - accuracy: 0.7578 - val_loss: 0.5431 - val_accuracy: 0.7784\n",
            "Epoch 19/100\n",
            "204/204 [==============================] - 2s 8ms/step - loss: 0.5840 - accuracy: 0.7521 - val_loss: 0.5396 - val_accuracy: 0.7758\n",
            "Epoch 20/100\n",
            "204/204 [==============================] - 1s 6ms/step - loss: 0.5825 - accuracy: 0.7549 - val_loss: 0.5390 - val_accuracy: 0.7827\n",
            "Epoch 21/100\n",
            "204/204 [==============================] - 1s 7ms/step - loss: 0.5814 - accuracy: 0.7626 - val_loss: 0.5495 - val_accuracy: 0.7532\n",
            "Epoch 22/100\n",
            "204/204 [==============================] - 1s 6ms/step - loss: 0.5744 - accuracy: 0.7624 - val_loss: 0.5364 - val_accuracy: 0.7723\n",
            "Epoch 23/100\n",
            "204/204 [==============================] - 1s 6ms/step - loss: 0.5768 - accuracy: 0.7592 - val_loss: 0.5613 - val_accuracy: 0.7550\n",
            "Epoch 24/100\n",
            "204/204 [==============================] - 1s 6ms/step - loss: 0.5788 - accuracy: 0.7598 - val_loss: 0.5519 - val_accuracy: 0.7584\n",
            "Epoch 25/100\n",
            "204/204 [==============================] - 1s 6ms/step - loss: 0.5731 - accuracy: 0.7561 - val_loss: 0.5414 - val_accuracy: 0.7792\n",
            "Epoch 26/100\n",
            "204/204 [==============================] - 1s 6ms/step - loss: 0.5708 - accuracy: 0.7595 - val_loss: 0.5406 - val_accuracy: 0.7654\n",
            "Epoch 27/100\n",
            "204/204 [==============================] - 2s 8ms/step - loss: 0.5697 - accuracy: 0.7594 - val_loss: 0.5388 - val_accuracy: 0.7723\n",
            "Epoch 28/100\n",
            "204/204 [==============================] - 2s 10ms/step - loss: 0.5627 - accuracy: 0.7615 - val_loss: 0.5336 - val_accuracy: 0.7827\n",
            "Epoch 29/100\n",
            "204/204 [==============================] - 2s 8ms/step - loss: 0.5599 - accuracy: 0.7635 - val_loss: 0.5336 - val_accuracy: 0.7818\n",
            "Epoch 30/100\n",
            "204/204 [==============================] - 1s 6ms/step - loss: 0.5584 - accuracy: 0.7641 - val_loss: 0.5308 - val_accuracy: 0.7732\n",
            "Epoch 31/100\n",
            "204/204 [==============================] - 1s 6ms/step - loss: 0.5605 - accuracy: 0.7640 - val_loss: 0.5340 - val_accuracy: 0.7740\n",
            "Epoch 32/100\n",
            "204/204 [==============================] - 1s 7ms/step - loss: 0.5584 - accuracy: 0.7656 - val_loss: 0.5423 - val_accuracy: 0.7697\n",
            "Epoch 33/100\n",
            "204/204 [==============================] - 1s 6ms/step - loss: 0.5521 - accuracy: 0.7653 - val_loss: 0.5359 - val_accuracy: 0.7723\n",
            "Epoch 34/100\n",
            "204/204 [==============================] - 1s 6ms/step - loss: 0.5507 - accuracy: 0.7696 - val_loss: 0.5280 - val_accuracy: 0.7758\n",
            "Epoch 35/100\n",
            "204/204 [==============================] - 1s 6ms/step - loss: 0.5621 - accuracy: 0.7647 - val_loss: 0.5390 - val_accuracy: 0.7567\n",
            "Epoch 36/100\n",
            "204/204 [==============================] - 1s 6ms/step - loss: 0.5483 - accuracy: 0.7660 - val_loss: 0.5364 - val_accuracy: 0.7680\n",
            "Epoch 37/100\n",
            "204/204 [==============================] - 2s 9ms/step - loss: 0.5437 - accuracy: 0.7712 - val_loss: 0.5328 - val_accuracy: 0.7827\n",
            "Epoch 38/100\n",
            "204/204 [==============================] - 2s 10ms/step - loss: 0.5444 - accuracy: 0.7725 - val_loss: 0.5315 - val_accuracy: 0.7784\n",
            "Epoch 39/100\n",
            "204/204 [==============================] - 2s 8ms/step - loss: 0.5502 - accuracy: 0.7695 - val_loss: 0.5316 - val_accuracy: 0.7792\n",
            "Epoch 40/100\n",
            "204/204 [==============================] - 1s 6ms/step - loss: 0.5552 - accuracy: 0.7624 - val_loss: 0.5336 - val_accuracy: 0.7732\n",
            "Epoch 41/100\n",
            "204/204 [==============================] - 1s 6ms/step - loss: 0.5419 - accuracy: 0.7727 - val_loss: 0.5345 - val_accuracy: 0.7818\n",
            "Epoch 42/100\n",
            "204/204 [==============================] - 1s 6ms/step - loss: 0.5445 - accuracy: 0.7744 - val_loss: 0.5368 - val_accuracy: 0.7775\n",
            "Epoch 43/100\n",
            "204/204 [==============================] - 1s 6ms/step - loss: 0.5433 - accuracy: 0.7699 - val_loss: 0.5430 - val_accuracy: 0.7688\n",
            "Epoch 44/100\n",
            "204/204 [==============================] - 1s 6ms/step - loss: 0.5375 - accuracy: 0.7716 - val_loss: 0.5393 - val_accuracy: 0.7879\n"
          ]
        },
        {
          "output_type": "execute_result",
          "data": {
            "text/plain": [
              "<keras.callbacks.History at 0x7a1f4cbb04c0>"
            ]
          },
          "metadata": {},
          "execution_count": 17
        }
      ]
    },
    {
      "cell_type": "code",
      "source": [
        "history_loss_accuracy(history, n_classes)"
      ],
      "metadata": {
        "colab": {
          "base_uri": "https://localhost:8080/",
          "height": 472
        },
        "id": "qnTFUMsZ9bJ8",
        "outputId": "8a156422-4e9e-42a4-cafc-6eb860b9c2f6"
      },
      "execution_count": 18,
      "outputs": [
        {
          "output_type": "display_data",
          "data": {
            "text/plain": [
              "<Figure size 640x480 with 1 Axes>"
            ],
            "image/png": "[encoded data removed]"
          },
          "metadata": {}
        }
      ]
    },
    {
      "cell_type": "code",
      "source": [
        "# Test scores\n",
        "scores = ann.evaluate(X_tab_test, Y_test)\n",
        "print(f\"Test Loss: {scores[0]:.4f}\")\n",
        "print(f\"Test Accuracy: {scores[1]:.4f}\")"
      ],
      "metadata": {
        "id": "oNqQ9JvpjbiQ",
        "colab": {
          "base_uri": "https://localhost:8080/"
        },
        "outputId": "b086c616-3956-4a0d-aad1-05e6c87a3d4b"
      },
      "execution_count": 19,
      "outputs": [
        {
          "output_type": "stream",
          "name": "stdout",
          "text": [
            "61/61 [==============================] - 0s 3ms/step - loss: 0.5261 - accuracy: 0.7865\n",
            "Test Loss: 0.5261\n",
            "Test Accuracy: 0.7865\n"
          ]
        }
      ]
    },
    {
      "cell_type": "markdown",
      "source": [
        "## 2.3. Fusion models"
      ],
      "metadata": {
        "id": "kMMlSNefxdH9"
      }
    },
    {
      "cell_type": "markdown",
      "source": [
        "### 2.3.1. Early Fusion"
      ],
      "metadata": {
        "id": "mf-rxph5xiu9"
      }
    },
    {
      "cell_type": "code",
      "source": [
        "from keras.layers import MaxPooling2D\n",
        "\n",
        "base_model = keras.applications.Xception(\n",
        "    weights='imagenet',\n",
        "    input_shape=(img_shape[0], img_shape[1], 3),\n",
        "    include_top=False)\n",
        "\n",
        "# Freeze base model\n",
        "base_model.trainable = False\n",
        "\n",
        "# Create a new model on top\n",
        "inputs = keras.Input(shape=(img_shape[0], img_shape[1], 3))\n",
        "x = base_model(inputs, training=False)\n",
        "x = MaxPooling2D(pool_size=(3, 3))(x)\n",
        "x = Dropout(0.5)(x)\n",
        "outputs = Flatten()(x)\n",
        "model = Model(inputs, outputs)"
      ],
      "metadata": {
        "id": "NzRR7gH8xqiW"
      },
      "execution_count": 20,
      "outputs": []
    },
    {
      "cell_type": "code",
      "source": [
        "X_features_train = model.predict(X_img_train)\n",
        "X_features_val = model.predict(X_img_val)\n",
        "X_features_test = model.predict(X_img_test)\n",
        "\n",
        "X_train = tf.concat([X_features_train, X_tab_train], axis=1)\n",
        "X_val = tf.concat([X_features_val, X_tab_val], axis=1)\n",
        "X_test = tf.concat([X_features_test, X_tab_test], axis=1)"
      ],
      "metadata": {
        "colab": {
          "base_uri": "https://localhost:8080/"
        },
        "id": "B0vpuzxDxzVz",
        "outputId": "89188bd7-9cfc-4557-fe51-c7e127dc4752"
      },
      "execution_count": 21,
      "outputs": [
        {
          "output_type": "stream",
          "name": "stdout",
          "text": [
            "204/204 [==============================] - 12s 54ms/step\n",
            "37/37 [==============================] - 2s 44ms/step\n",
            "61/61 [==============================] - 3s 44ms/step\n"
          ]
        }
      ]
    },
    {
      "cell_type": "code",
      "source": [
        "ann_earlyfusion = classification_nn((X_train.shape[1],), n_classes)\n",
        "\n",
        "# Compile the model\n",
        "ann_earlyfusion.compile(loss='categorical_crossentropy',\n",
        "                        optimizer=Adam(learning_rate=1e-4),\n",
        "                        metrics=['accuracy'])\n",
        "\n",
        "# Set history early-stopping callbacks\n",
        "history = History()\n",
        "earlystopping = EarlyStopping(monitor='val_loss',\n",
        "                              patience=10,\n",
        "                              verbose=0,\n",
        "                              mode='auto')\n",
        "\n",
        "# Train the model on new data\n",
        "ann_earlyfusion.fit(X_train,\n",
        "                    Y_train,\n",
        "                    batch_size=64,\n",
        "                    shuffle=True,\n",
        "                    epochs=100,\n",
        "                    validation_data=(X_val, Y_val),\n",
        "                    callbacks=[history, earlystopping])"
      ],
      "metadata": {
        "colab": {
          "base_uri": "https://localhost:8080/"
        },
        "id": "jUwLPfKfztf4",
        "outputId": "3bea13ae-1b4b-4ae4-f5f5-472cf585e082"
      },
      "execution_count": 22,
      "outputs": [
        {
          "output_type": "stream",
          "name": "stdout",
          "text": [
            "Epoch 1/100\n",
            "102/102 [==============================] - 4s 26ms/step - loss: 1.1023 - accuracy: 0.3781 - val_loss: 1.0599 - val_accuracy: 0.4260\n",
            "Epoch 2/100\n",
            "102/102 [==============================] - 2s 16ms/step - loss: 1.0278 - accuracy: 0.4707 - val_loss: 0.9605 - val_accuracy: 0.5299\n",
            "Epoch 3/100\n",
            "102/102 [==============================] - 1s 13ms/step - loss: 0.9597 - accuracy: 0.5201 - val_loss: 0.8787 - val_accuracy: 0.5853\n",
            "Epoch 4/100\n",
            "102/102 [==============================] - 1s 9ms/step - loss: 0.8917 - accuracy: 0.5652 - val_loss: 0.8135 - val_accuracy: 0.6165\n",
            "Epoch 5/100\n",
            "102/102 [==============================] - 1s 7ms/step - loss: 0.8282 - accuracy: 0.6015 - val_loss: 0.7657 - val_accuracy: 0.6390\n",
            "Epoch 6/100\n",
            "102/102 [==============================] - 1s 7ms/step - loss: 0.7806 - accuracy: 0.6273 - val_loss: 0.7417 - val_accuracy: 0.6502\n",
            "Epoch 7/100\n",
            "102/102 [==============================] - 1s 9ms/step - loss: 0.7394 - accuracy: 0.6525 - val_loss: 0.7160 - val_accuracy: 0.6710\n",
            "Epoch 8/100\n",
            "102/102 [==============================] - 1s 11ms/step - loss: 0.7081 - accuracy: 0.6696 - val_loss: 0.7264 - val_accuracy: 0.6693\n",
            "Epoch 9/100\n",
            "102/102 [==============================] - 1s 11ms/step - loss: 0.6775 - accuracy: 0.6903 - val_loss: 0.6939 - val_accuracy: 0.6797\n",
            "Epoch 10/100\n",
            "102/102 [==============================] - 1s 11ms/step - loss: 0.6509 - accuracy: 0.7066 - val_loss: 0.6893 - val_accuracy: 0.6779\n",
            "Epoch 11/100\n",
            "102/102 [==============================] - 1s 7ms/step - loss: 0.6271 - accuracy: 0.7235 - val_loss: 0.6844 - val_accuracy: 0.7056\n",
            "Epoch 12/100\n",
            "102/102 [==============================] - 1s 7ms/step - loss: 0.6141 - accuracy: 0.7316 - val_loss: 0.6807 - val_accuracy: 0.7074\n",
            "Epoch 13/100\n",
            "102/102 [==============================] - 1s 7ms/step - loss: 0.5840 - accuracy: 0.7489 - val_loss: 0.6720 - val_accuracy: 0.7255\n",
            "Epoch 14/100\n",
            "102/102 [==============================] - 1s 7ms/step - loss: 0.5661 - accuracy: 0.7511 - val_loss: 0.6822 - val_accuracy: 0.7074\n",
            "Epoch 15/100\n",
            "102/102 [==============================] - 1s 7ms/step - loss: 0.5404 - accuracy: 0.7748 - val_loss: 0.6719 - val_accuracy: 0.7229\n",
            "Epoch 16/100\n",
            "102/102 [==============================] - 1s 7ms/step - loss: 0.5203 - accuracy: 0.7781 - val_loss: 0.6675 - val_accuracy: 0.7195\n",
            "Epoch 17/100\n",
            "102/102 [==============================] - 1s 7ms/step - loss: 0.5109 - accuracy: 0.7877 - val_loss: 0.6766 - val_accuracy: 0.7186\n",
            "Epoch 18/100\n",
            "102/102 [==============================] - 1s 7ms/step - loss: 0.4906 - accuracy: 0.7977 - val_loss: 0.6716 - val_accuracy: 0.7247\n",
            "Epoch 19/100\n",
            "102/102 [==============================] - 1s 7ms/step - loss: 0.4791 - accuracy: 0.8021 - val_loss: 0.6919 - val_accuracy: 0.7082\n",
            "Epoch 20/100\n",
            "102/102 [==============================] - 1s 7ms/step - loss: 0.4609 - accuracy: 0.8083 - val_loss: 0.6839 - val_accuracy: 0.7264\n",
            "Epoch 21/100\n",
            "102/102 [==============================] - 1s 7ms/step - loss: 0.4459 - accuracy: 0.8206 - val_loss: 0.6934 - val_accuracy: 0.7247\n",
            "Epoch 22/100\n",
            "102/102 [==============================] - 1s 7ms/step - loss: 0.4335 - accuracy: 0.8227 - val_loss: 0.6943 - val_accuracy: 0.7273\n",
            "Epoch 23/100\n",
            "102/102 [==============================] - 1s 7ms/step - loss: 0.4322 - accuracy: 0.8241 - val_loss: 0.7003 - val_accuracy: 0.7160\n",
            "Epoch 24/100\n",
            "102/102 [==============================] - 1s 7ms/step - loss: 0.3953 - accuracy: 0.8425 - val_loss: 0.7157 - val_accuracy: 0.7247\n",
            "Epoch 25/100\n",
            "102/102 [==============================] - 1s 9ms/step - loss: 0.4068 - accuracy: 0.8310 - val_loss: 0.7335 - val_accuracy: 0.7065\n",
            "Epoch 26/100\n",
            "102/102 [==============================] - 1s 10ms/step - loss: 0.3720 - accuracy: 0.8515 - val_loss: 0.7216 - val_accuracy: 0.7307\n"
          ]
        },
        {
          "output_type": "execute_result",
          "data": {
            "text/plain": [
              "<keras.callbacks.History at 0x7a1f4ebbf8b0>"
            ]
          },
          "metadata": {},
          "execution_count": 22
        }
      ]
    },
    {
      "cell_type": "code",
      "source": [
        "history_loss_accuracy(history, n_classes)"
      ],
      "metadata": {
        "colab": {
          "base_uri": "https://localhost:8080/",
          "height": 472
        },
        "id": "wIYu7SIgEAQg",
        "outputId": "6860e024-59f1-40dd-a787-f89e184d1045"
      },
      "execution_count": 23,
      "outputs": [
        {
          "output_type": "display_data",
          "data": {
            "text/plain": [
              "<Figure size 640x480 with 1 Axes>"
            ],
            "image/png": "[encoded data removed]"
          },
          "metadata": {}
        }
      ]
    },
    {
      "cell_type": "code",
      "source": [
        "# Test scores\n",
        "scores = ann_earlyfusion.evaluate(X_test, Y_test)\n",
        "print(f\"Test Loss: {scores[0]:.4f}\")\n",
        "print(f\"Test Accuracy: {scores[1]:.4f}\")"
      ],
      "metadata": {
        "id": "6h4dzQsA2sEa",
        "colab": {
          "base_uri": "https://localhost:8080/"
        },
        "outputId": "85bb4082-3f48-47d0-e41a-42d20432c041"
      },
      "execution_count": 24,
      "outputs": [
        {
          "output_type": "stream",
          "name": "stdout",
          "text": [
            "61/61 [==============================] - 0s 3ms/step - loss: 0.7420 - accuracy: 0.7195\n",
            "Test Loss: 0.7420\n",
            "Test Accuracy: 0.7195\n"
          ]
        }
      ]
    },
    {
      "cell_type": "markdown",
      "source": [
        "### 2.3.2. Late Fusion"
      ],
      "metadata": {
        "id": "U33eolvcxmQO"
      }
    },
    {
      "cell_type": "code",
      "source": [
        "X_train = tf.concat([xception_tl.predict(X_img_train), ann.predict(X_tab_train)], axis=1)\n",
        "X_val = tf.concat([xception_tl.predict(X_img_val), ann.predict(X_tab_val)], axis=1)\n",
        "X_test = tf.concat([xception_tl.predict(X_img_test), ann.predict(X_tab_test)], axis=1)"
      ],
      "metadata": {
        "id": "_DZtgfCU3hVR",
        "colab": {
          "base_uri": "https://localhost:8080/"
        },
        "outputId": "0c48ccd5-d511-4963-c32e-edd6564908a9"
      },
      "execution_count": 25,
      "outputs": [
        {
          "output_type": "stream",
          "name": "stdout",
          "text": [
            "204/204 [==============================] - 10s 46ms/step\n",
            "204/204 [==============================] - 1s 2ms/step\n",
            "37/37 [==============================] - 2s 47ms/step\n",
            "37/37 [==============================] - 0s 2ms/step\n",
            "61/61 [==============================] - 3s 48ms/step\n",
            "61/61 [==============================] - 0s 2ms/step\n"
          ]
        }
      ]
    },
    {
      "cell_type": "code",
      "source": [
        "ann_latefusion = classification_nn((X_train.shape[1],), n_classes)\n",
        "\n",
        "# Compile the model\n",
        "ann_latefusion.compile(loss='categorical_crossentropy',\n",
        "                      optimizer=Adam(learning_rate=1e-3),\n",
        "                      metrics=['accuracy'])\n",
        "\n",
        "# Set history early-stopping callbacks\n",
        "history = History()\n",
        "earlystopping = EarlyStopping(monitor='val_loss',\n",
        "                              patience=10,\n",
        "                              verbose=0,\n",
        "                              mode='auto')\n",
        "\n",
        "# Train the model on new data\n",
        "ann_latefusion.fit(X_train,\n",
        "                   Y_train,\n",
        "                   batch_size=32,\n",
        "                   shuffle=True,\n",
        "                   epochs=100,\n",
        "                   validation_data=(X_val, Y_val),\n",
        "                   callbacks=[history, earlystopping])"
      ],
      "metadata": {
        "id": "tKOWmXdT4zyo",
        "colab": {
          "base_uri": "https://localhost:8080/"
        },
        "outputId": "844fc53b-d68e-4708-ee26-940edae60d2b"
      },
      "execution_count": 27,
      "outputs": [
        {
          "output_type": "stream",
          "name": "stdout",
          "text": [
            "Epoch 1/100\n",
            "204/204 [==============================] - 5s 8ms/step - loss: 0.8415 - accuracy: 0.5819 - val_loss: 0.5516 - val_accuracy: 0.7784\n",
            "Epoch 2/100\n",
            "204/204 [==============================] - 1s 6ms/step - loss: 0.5640 - accuracy: 0.7729 - val_loss: 0.5558 - val_accuracy: 0.7896\n",
            "Epoch 3/100\n",
            "204/204 [==============================] - 3s 13ms/step - loss: 0.5280 - accuracy: 0.7959 - val_loss: 0.5756 - val_accuracy: 0.7714\n",
            "Epoch 4/100\n",
            "204/204 [==============================] - 2s 10ms/step - loss: 0.5223 - accuracy: 0.7905 - val_loss: 0.5465 - val_accuracy: 0.7775\n",
            "Epoch 5/100\n",
            "204/204 [==============================] - 2s 8ms/step - loss: 0.4994 - accuracy: 0.7966 - val_loss: 0.5437 - val_accuracy: 0.7844\n",
            "Epoch 6/100\n",
            "204/204 [==============================] - 1s 6ms/step - loss: 0.5020 - accuracy: 0.7920 - val_loss: 0.5491 - val_accuracy: 0.7870\n",
            "Epoch 7/100\n",
            "204/204 [==============================] - 1s 6ms/step - loss: 0.4912 - accuracy: 0.8018 - val_loss: 0.5491 - val_accuracy: 0.7896\n",
            "Epoch 8/100\n",
            "204/204 [==============================] - 1s 6ms/step - loss: 0.4888 - accuracy: 0.7982 - val_loss: 0.5537 - val_accuracy: 0.7922\n",
            "Epoch 9/100\n",
            "204/204 [==============================] - 1s 6ms/step - loss: 0.4975 - accuracy: 0.7945 - val_loss: 0.5486 - val_accuracy: 0.7913\n",
            "Epoch 10/100\n",
            "204/204 [==============================] - 1s 6ms/step - loss: 0.4840 - accuracy: 0.7959 - val_loss: 0.5582 - val_accuracy: 0.7913\n",
            "Epoch 11/100\n",
            "204/204 [==============================] - 1s 6ms/step - loss: 0.4847 - accuracy: 0.8049 - val_loss: 0.5501 - val_accuracy: 0.7870\n",
            "Epoch 12/100\n",
            "204/204 [==============================] - 1s 6ms/step - loss: 0.4869 - accuracy: 0.8002 - val_loss: 0.5565 - val_accuracy: 0.7861\n",
            "Epoch 13/100\n",
            "204/204 [==============================] - 2s 10ms/step - loss: 0.4868 - accuracy: 0.7963 - val_loss: 0.5504 - val_accuracy: 0.7861\n",
            "Epoch 14/100\n",
            "204/204 [==============================] - 2s 10ms/step - loss: 0.4813 - accuracy: 0.8008 - val_loss: 0.5610 - val_accuracy: 0.7870\n",
            "Epoch 15/100\n",
            "204/204 [==============================] - 1s 6ms/step - loss: 0.4842 - accuracy: 0.8038 - val_loss: 0.5489 - val_accuracy: 0.7853\n"
          ]
        },
        {
          "output_type": "execute_result",
          "data": {
            "text/plain": [
              "<keras.callbacks.History at 0x7a1feb08cc70>"
            ]
          },
          "metadata": {},
          "execution_count": 27
        }
      ]
    },
    {
      "cell_type": "code",
      "source": [
        "history_loss_accuracy(history, n_classes)"
      ],
      "metadata": {
        "colab": {
          "base_uri": "https://localhost:8080/",
          "height": 472
        },
        "id": "R_WnztPwEBmO",
        "outputId": "1d3c4c4c-ec92-4ffe-e571-0d9e420200ad"
      },
      "execution_count": 28,
      "outputs": [
        {
          "output_type": "display_data",
          "data": {
            "text/plain": [
              "<Figure size 640x480 with 1 Axes>"
            ],
            "image/png": "[encoded data removed]"
          },
          "metadata": {}
        }
      ]
    },
    {
      "cell_type": "code",
      "source": [
        "# Test scores\n",
        "scores = ann_latefusion.evaluate(X_test, Y_test)\n",
        "print(f\"Test Loss: {scores[0]:.4f}\")\n",
        "print(f\"Test Accuracy: {scores[1]:.4f}\")"
      ],
      "metadata": {
        "id": "6BqKompL5ChP",
        "colab": {
          "base_uri": "https://localhost:8080/"
        },
        "outputId": "6b29fd0a-c008-4686-9e66-ac20b2c569d1"
      },
      "execution_count": 29,
      "outputs": [
        {
          "output_type": "stream",
          "name": "stdout",
          "text": [
            "61/61 [==============================] - 0s 3ms/step - loss: 0.5426 - accuracy: 0.7844\n",
            "Test Loss: 0.5426\n",
            "Test Accuracy: 0.7844\n"
          ]
        }
      ]
    },
    {
      "cell_type": "markdown",
      "source": [
        "# **3. Conclusions**"
      ],
      "metadata": {
        "id": "PePQlHHtvkWs"
      }
    },
    {
      "cell_type": "markdown",
      "source": [
        "- En la clasificación de imágenes se ha utilizado el modelo preentrenado Xception. Para el entrenamiento del modelo se han utilizado dos aproximaciones: transfer learning y fine-tuning. Aunque cabría esperar que el modelo entrenado con fine-tuning tuviera mejores prestaciones, los resultados en términos de accuracy en el conjunto de test han sido similares (49%).\n",
        "- Para clasificar los datos tabulares se ha utilizado una red neuronal densa desarrollada desde cero, con un accuracy del 79% en el conjunto de test.\n",
        "- En la fusión de modelos, el modelo de late fusion utilizado ha obtenido un accuracy similar al de la red neuronal densa (78%), mientras que el resultado del modelo de early fusion ha sido ligeramente inferior (71%), además de que en éste último se aprecia cierto overfitting a los datos de entrenamiento.\n",
        "- Los resultados obtenidos con la CNN han sido discretos y, a pesar de que con la red neuronal densa la mejora ha sido significativa con la fusión de modelos no han mejorado las métricas.\n",
        "- Las prestaciones de estos modelos son inferiores a las que se pueden obtener con [modelos basados en árboles de decisión](https://github.com/JCRbit/machine-learning-py/blob/main/machine_learning_airbnb.ipynb) pero la diferencia no es tan grande."
      ],
      "metadata": {
        "id": "BKNZIIhCn9V0"
      }
    }
  ],
  "metadata": {
    "colab": {
      "provenance": [],
      "toc_visible": true,
      "gpuType": "T4"
    },
    "kernelspec": {
      "display_name": "Python 3",
      "name": "python3"
    },
    "language_info": {
      "name": "python"
    },
    "accelerator": "GPU"
  },
  "nbformat": 4,
  "nbformat_minor": 0
}